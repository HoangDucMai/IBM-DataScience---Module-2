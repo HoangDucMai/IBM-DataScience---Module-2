{
 "cells": [
  {
   "cell_type": "markdown",
   "id": "f0e0159c-2a7e-46c0-988a-263f09a002f8",
   "metadata": {},
   "source": [
    "# Data Science Tools and Ecosystem"
   ]
  },
  {
   "cell_type": "markdown",
   "id": "cd195fba-08e3-4445-b298-1057e692389b",
   "metadata": {},
   "source": [
    "In this notebook, Data Science Tools and Ecosystem are summarized"
   ]
  },
  {
   "cell_type": "markdown",
   "id": "c409b827-d8ed-4557-9bcb-3ca2402820c7",
   "metadata": {},
   "source": [
    "**Objectives**\n",
    "- List popular languages for Data Science\n",
    "- List common libraries used in Data Science\n",
    "- List popular development environment open source tools\n",
    "- Example of arithmetic expression in Python"
   ]
  },
  {
   "cell_type": "markdown",
   "id": "63ae240c-2820-4cf2-b2cf-ffb6ce2d3ae3",
   "metadata": {},
   "source": [
    "Some of the popular languages that Data Scientists use are:\n",
    "1. Python\n",
    "2. R\n",
    "3. SQL\n",
    "4. Java\n",
    "5. Scala"
   ]
  },
  {
   "cell_type": "markdown",
   "id": "91fbeefa-f7e1-4e95-a600-311788e6e994",
   "metadata": {},
   "source": [
    "Some of the common used libraries used by Data Scientists include:\n",
    "1. Pandas - Python\n",
    "2. NumPy - Python\n",
    "3. Matplotlib - Python\n",
    "4. Scikit-learn - Python\n",
    "5. Keras - Python\n",
    "6. TensorFlow - Python\n",
    "7. ggplot2 - R\n",
    "8. Vegas - Scala\n",
    "9. BigDL - Scala"
   ]
  },
  {
   "cell_type": "markdown",
   "id": "84d07edb-1dc4-44d0-878d-8529736e3db3",
   "metadata": {},
   "source": [
    "|Popular development environment open source tools| \n",
    "|-------------------------------------------------|\n",
    "| Jupyter Notebook |\n",
    "| RStudio |\n",
    "| Visual Studio Code |"
   ]
  },
  {
   "cell_type": "markdown",
   "id": "a4b255a9-3d3f-4457-9795-eaa8d0882d0a",
   "metadata": {
    "tags": []
   },
   "source": [
    "### Below are a few examples of evaluating arithmetic expressions in Python"
   ]
  },
  {
   "cell_type": "code",
   "execution_count": 3,
   "id": "2113a81d-11f2-4130-82b7-2ed471d16135",
   "metadata": {
    "tags": []
   },
   "outputs": [
    {
     "data": {
      "text/plain": [
       "17"
      ]
     },
     "execution_count": 3,
     "metadata": {},
     "output_type": "execute_result"
    }
   ],
   "source": [
    "# This is a simple arithmetic expression to mutiply then add integers.\n",
    "(3*4)+5"
   ]
  },
  {
   "cell_type": "code",
   "execution_count": 9,
   "id": "26145c9f-3a25-45a0-b79b-6dc0e6f8c978",
   "metadata": {
    "tags": []
   },
   "outputs": [
    {
     "name": "stdout",
     "output_type": "stream",
     "text": [
      "3.33 hours\n"
     ]
    }
   ],
   "source": [
    "# This will convert 200 minutes to hours by diving by 60.\n",
    "convert_to_hour=200/60\n",
    "print(f\"{convert_to_hour:.2f} hours\")"
   ]
  },
  {
   "cell_type": "markdown",
   "id": "c0305be9-1cec-4362-8a88-5eb3e428fcf3",
   "metadata": {},
   "source": [
    "## Author\n",
    "Hoang Duc Mai"
   ]
  },
  {
   "cell_type": "code",
   "execution_count": null,
   "id": "7de3dc8e-a350-463f-aefb-d64992b1b24b",
   "metadata": {},
   "outputs": [],
   "source": []
  }
 ],
 "metadata": {
  "kernelspec": {
   "display_name": "Python",
   "language": "python",
   "name": "conda-env-python-py"
  },
  "language_info": {
   "codemirror_mode": {
    "name": "ipython",
    "version": 3
   },
   "file_extension": ".py",
   "mimetype": "text/x-python",
   "name": "python",
   "nbconvert_exporter": "python",
   "pygments_lexer": "ipython3",
   "version": "3.7.12"
  }
 },
 "nbformat": 4,
 "nbformat_minor": 5
}
